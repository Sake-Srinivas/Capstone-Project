{
 "cells": [
  {
   "cell_type": "code",
   "execution_count": 1,
   "metadata": {},
   "outputs": [
    {
     "name": "stdout",
     "output_type": "stream",
     "text": [
      "hello\n"
     ]
    }
   ],
   "source": [
    "print(\"hello\")"
   ]
  },
  {
   "cell_type": "code",
   "execution_count": 1,
   "metadata": {},
   "outputs": [
    {
     "name": "stdout",
     "output_type": "stream",
     "text": [
      "Transcription:\n",
      "buy a note is an open source tool kit return in Python for speaker diarization based on pipe touch machine learning Framework it provides a set of trainable end to end neural building blocks that can be combined and jointly optimise to build speaker diarization pipelines\n"
     ]
    }
   ],
   "source": [
    "import speech_recognition as sr\n",
    "\n",
    "def convert_audio_to_text(audio_file_path):\n",
    "    # Initialize recognizer\n",
    "    recognizer = sr.Recognizer()\n",
    "    \n",
    "    # Load audio file\n",
    "    with sr.AudioFile(audio_file_path) as source:\n",
    "        # Listen to the audio file\n",
    "        audio_data = recognizer.record(source)\n",
    "        \n",
    "        try:\n",
    "            # Recognize the audio using Google's speech recognition service\n",
    "            text = recognizer.recognize_google(audio_data)\n",
    "            return text\n",
    "        except sr.UnknownValueError:\n",
    "            return \"Google Speech Recognition could not understand the audio\"\n",
    "        except sr.RequestError as e:\n",
    "            return f\"Could not request results from Google Speech Recognition service; {e}\"\n",
    "\n",
    "# Path to your audio file\n",
    "audio_file_path = r\"D:\\7-CAI-1\\Capstone Project\\record_wav.wav\"\n",
    "\n",
    "# Convert audio to text\n",
    "transcription = convert_audio_to_text(audio_file_path)\n",
    "print(\"Transcription:\")\n",
    "print(transcription)\n"
   ]
  },
  {
   "cell_type": "code",
   "execution_count": null,
   "metadata": {},
   "outputs": [],
   "source": []
  }
 ],
 "metadata": {
  "kernelspec": {
   "display_name": "Python 3",
   "language": "python",
   "name": "python3"
  },
  "language_info": {
   "codemirror_mode": {
    "name": "ipython",
    "version": 3
   },
   "file_extension": ".py",
   "mimetype": "text/x-python",
   "name": "python",
   "nbconvert_exporter": "python",
   "pygments_lexer": "ipython3",
   "version": "3.12.5"
  }
 },
 "nbformat": 4,
 "nbformat_minor": 2
}
